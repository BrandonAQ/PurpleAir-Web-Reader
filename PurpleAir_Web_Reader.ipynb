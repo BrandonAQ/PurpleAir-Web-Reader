{
 "cells": [
  {
   "cell_type": "markdown",
   "metadata": {},
   "source": [
    "# Purple Air Web Reader\n",
    "\n",
    "Written by Ross Cheung, South Coast AQMD.  If you have questions, you can contact me at: rcheung@aqmd.gov\n",
    "\n",
    "\n",
    "   *Last Updated 04-16-2019* \n",
    "\n",
    "\n",
    "### Dependencies\n",
    "For this to work you'll need to install the selenium library, which is not part of an Anaconda installation.  For more on installing selenium on your system, look at: \n",
    "http://selenium-python.readthedocs.io/installation.html\n",
    "\n",
    "\n",
    "You will also need a web browser; I have tested this with Chrome for Windows and Mac, and both work fine.  The windows version of Chrome required a specific automated Chrome browser, but this may have been done away with in more recent versions of Chrome.  If not, the Selenium website has a continually updated link to web drivers. \n",
    "\n",
    "### How to download data\n",
    "\n",
    "A few cells down, under the \"input here\" heading, change the variable listed as \"keyword_list\" to a list of strings of keywords (see examples).  The code will search for all station names that contain that substring (e.g. 'AQMD_NASA' will find stations 'AQMD_NASA 1', 'AQMD_NASA 2', etc.).   You can also set keyword_list to a list of many strings, in which case it'll download any data from any station that contains any of those keywords (see commented out examples for how data throughout the South Coast Basin was downloaded). \n",
    "\n",
    "Then change the variables \"start_date_text\" and \"end_date_text\" to the first and last date, in string format \"MM/DD/YY\".  THe code will fill in the text fields for \"Start Date\" and \"End Date\" respectively. \n",
    "\n",
    "Then, run the code. A \"phantom\" browser will open and actions will be carried out. You should see the website https://map.purpleair.org/sensorlist open, dates be entered, and files for the corrresponding stations and dates begin to download. \n",
    "\n",
    "The files will be downloaded to whatever fi\n",
    "\n",
    "### Note on Browser security settings, and other issues: \n",
    "\n",
    "Sometimes the browser freaks out because the code tries to download (depending on what you told it to do) thousands of files at once.  Chrome sometimes gives you a \"do you want to let this code download these files\" dialog box.  I recommend watching the operation for a bit, the first time you run it, to make sure it is working properly. \n",
    "\n",
    "There are other times when the code is run and nothing happens.  I'm not sure why this happens, and any solution besides restarting your computer and trying again, but as of 4/19/19 I have tested it and it works. \n",
    "\n",
    "Do note that as PurpleAir updates their sensor list page, the code slows down as it has to search through more entries.  Downloading every station associated with the keyword \"AQMD_NASA\" takes at most a few hours as of the last time this code was run. \n",
    "\n"
   ]
  },
  {
   "cell_type": "code",
   "execution_count": 1,
   "metadata": {},
   "outputs": [],
   "source": [
    "\n",
    "import time\n",
    "\n",
    "from selenium import webdriver\n",
    "from selenium.webdriver.common.keys import Keys\n",
    "\n"
   ]
  },
  {
   "cell_type": "markdown",
   "metadata": {},
   "source": [
    "## Input here\n",
    "\n",
    "In the next cell are some variables you can change/update to tell this script what to look for. \n",
    "\n",
    "keyword_list: add what keywords to this list, that you want the script to look for.  Example: if \"AQMD\" is a string in this list, the code will download data from any station that has \"AQMD\" in the title, like \"AQMD_NASA_16\", etc. \n",
    "\n",
    "start_date_text and \"end_date_text\": add the dates you want to download data from in North America format, for example \"12/06/17\" for December 6th, 2017. "
   ]
  },
  {
   "cell_type": "code",
   "execution_count": 2,
   "metadata": {},
   "outputs": [],
   "source": [
    "keyword_list = ['AQMD_NASA']\n",
    "#keyword_list = ['RUSD', 'Redlands', 'Yucaipa', 'Highland', 'LomaLinda', 'Mentone']\n",
    "\n",
    "#,'PCH Calle', 'CCA', 'Colton', 'Hacienda Heights', 'loma linda', 'mentone', 'west Los Angeles',\n",
    "               # 'CCA Balboa','Motor Parts of America', 'RUSD_', 'USCEHC','PCH Calle', 'Peters House', 'Porter Ranch',\n",
    "                #'Redlands', 'RIVR_Co','BikeSGV','Echo Park', 'Venice','Santa Monica', 'SBSC','SCSB','UHills']\n",
    "\n",
    "#Example: Download all data from Q4 of 2018\n",
    "start_date_text =  '09/01/18'\n",
    "end_date_text = '12/31/18'"
   ]
  },
  {
   "cell_type": "markdown",
   "metadata": {},
   "source": [
    "# Ideally below this point you won't have to touch this code, other than perhaps updating the location of your chrome driver. "
   ]
  },
  {
   "cell_type": "code",
   "execution_count": 3,
   "metadata": {},
   "outputs": [],
   "source": [
    "# Note: As of 9/28 for some reason this only works in chrome but not phantomjs.\n",
    "# You may need to manually watch the browser to see if it complains about many files\n",
    "# being downloaded; a lot have protections in case bots (like this)\n",
    "\n",
    "#driver = webdriver.Ie()\n",
    "driver = webdriver.Chrome('./chromedriver')\n",
    "#driver = webdriver.PhantomJS(executable_path='./phantomjs') \n",
    "driver.get(\"https://map.purpleair.org/sensorlist\")\n",
    "assert \"PurpleAir\" in driver.title\n",
    "time.sleep(3)\n",
    "\n",
    "\n",
    "startdate = driver.find_element_by_id(\"startdatepicker\")\n",
    "enddate = driver.find_element_by_id(\"enddatepicker\")\n",
    "startdate.send_keys(start_date_text, Keys.ENTER)\n",
    "enddate.send_keys(end_date_text, Keys.ENTER)"
   ]
  },
  {
   "cell_type": "code",
   "execution_count": null,
   "metadata": {},
   "outputs": [],
   "source": [
    "def click_specific_keyword(keyword):\n",
    "    \n",
    "    allButtons = driver.find_elements_by_xpath(\"//tr[contains(td[2], '\" + keyword + \"')]/td[5]/button[text()='Download Primary']\")\n",
    "    for buttons in allButtons:\n",
    "        try: \n",
    "            buttons.click()\n",
    "        except:\n",
    "            pass\n",
    "        time.sleep(30)\n",
    "        \n",
    "        \n",
    "\n",
    "#allButtons = driver.find_elements_by_xpath(\"//tr[contains(td[2], 'AQMD_')]/td[5]/button[text()='Download Secondary']\")\n",
    "#allButtons = driver.find_elements_by_xpath(\"//tr[contains(td[2], 'RIVR_Co')]/td[5]/button[text()='Download Primary']\")\n",
    "\n"
   ]
  },
  {
   "cell_type": "code",
   "execution_count": null,
   "metadata": {},
   "outputs": [],
   "source": [
    "tic = time.time()\n",
    "\n",
    "for i in keyword_list:\n",
    "    click_specific_keyword(i)\n",
    "    time.sleep(3)\n"
   ]
  },
  {
   "cell_type": "code",
   "execution_count": null,
   "metadata": {},
   "outputs": [],
   "source": [
    "elapsed = time.time()- tic\n",
    "print(elapsed)"
   ]
  },
  {
   "cell_type": "code",
   "execution_count": null,
   "metadata": {},
   "outputs": [],
   "source": [
    "driver.close()\n"
   ]
  }
 ],
 "metadata": {
  "kernelspec": {
   "display_name": "Python 3",
   "language": "python",
   "name": "python3"
  },
  "language_info": {
   "codemirror_mode": {
    "name": "ipython",
    "version": 3
   },
   "file_extension": ".py",
   "mimetype": "text/x-python",
   "name": "python",
   "nbconvert_exporter": "python",
   "pygments_lexer": "ipython3",
   "version": "3.6.8"
  }
 },
 "nbformat": 4,
 "nbformat_minor": 2
}
